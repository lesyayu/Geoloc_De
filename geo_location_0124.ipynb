{
 "cells": [
  {
   "cell_type": "code",
   "execution_count": 2,
   "id": "initial_id",
   "metadata": {
    "collapsed": true,
    "ExecuteTime": {
     "end_time": "2024-01-24T14:17:54.006490700Z",
     "start_time": "2024-01-24T14:17:53.999507500Z"
    }
   },
   "outputs": [],
   "source": [
    "import pandas as pd\n",
    "import folium\n"
   ]
  },
  {
   "cell_type": "markdown",
   "source": [
    "## lesen die Datei mit Geolokations"
   ],
   "metadata": {
    "collapsed": false
   },
   "id": "8309facddaee5971"
  },
  {
   "cell_type": "code",
   "outputs": [
    {
     "data": {
      "text/plain": "   inserent_plz        lat        lng\n0          1067  51.057550  13.717065\n1          1069  51.039135  13.737675\n2          1097  51.065908  13.736152\n3          1099  51.087188  13.802804\n4          1108  51.144324  13.799706",
      "text/html": "<div>\n<style scoped>\n    .dataframe tbody tr th:only-of-type {\n        vertical-align: middle;\n    }\n\n    .dataframe tbody tr th {\n        vertical-align: top;\n    }\n\n    .dataframe thead th {\n        text-align: right;\n    }\n</style>\n<table border=\"1\" class=\"dataframe\">\n  <thead>\n    <tr style=\"text-align: right;\">\n      <th></th>\n      <th>inserent_plz</th>\n      <th>lat</th>\n      <th>lng</th>\n    </tr>\n  </thead>\n  <tbody>\n    <tr>\n      <th>0</th>\n      <td>1067</td>\n      <td>51.057550</td>\n      <td>13.717065</td>\n    </tr>\n    <tr>\n      <th>1</th>\n      <td>1069</td>\n      <td>51.039135</td>\n      <td>13.737675</td>\n    </tr>\n    <tr>\n      <th>2</th>\n      <td>1097</td>\n      <td>51.065908</td>\n      <td>13.736152</td>\n    </tr>\n    <tr>\n      <th>3</th>\n      <td>1099</td>\n      <td>51.087188</td>\n      <td>13.802804</td>\n    </tr>\n    <tr>\n      <th>4</th>\n      <td>1108</td>\n      <td>51.144324</td>\n      <td>13.799706</td>\n    </tr>\n  </tbody>\n</table>\n</div>"
     },
     "execution_count": 29,
     "metadata": {},
     "output_type": "execute_result"
    }
   ],
   "source": [
    "\n",
    "plz_geo_df = pd.read_csv('plz_geocoord.csv')\n",
    "# unbebennen die erste Spalte nach PLZ\n",
    "plz_geo_df.rename(columns={'Unnamed: 0': 'inserent_plz'}, inplace=True) \n",
    "\n",
    "plz_geo_df.head()"
   ],
   "metadata": {
    "collapsed": false,
    "ExecuteTime": {
     "end_time": "2024-01-24T14:46:52.229410400Z",
     "start_time": "2024-01-24T14:46:52.214458Z"
    }
   },
   "id": "d11113f334785e3a",
   "execution_count": 29
  },
  {
   "cell_type": "markdown",
   "source": [
    "## lesen die Datei mit Daten und wählen die Hightperforer "
   ],
   "metadata": {
    "collapsed": false
   },
   "id": "f4352a9234912b40"
  },
  {
   "cell_type": "code",
   "outputs": [],
   "source": [
    "\n",
    "df_daten = pd.read_csv('predictions_gpt2.csv')\n",
    "t = df_daten[['br','title','inserent_plz','label']]\n",
    "df_hight_perf = t[t['label'] == 2].copy()\n",
    "\n",
    "#type Object in Type integer umwandeln  \n",
    "df_hight_perf['inserent_plz'] =df_hight_perf['inserent_plz'].astype(int)\n",
    "\n",
    "\n",
    "# Dataframes zusammenlegen\n",
    "df_hight_perf_geo = pd.merge(df_hight_perf, plz_geo_df, on='inserent_plz', how='left')\n",
    "\n",
    "#kommische Zeilen weglegen\n",
    "df_hight_perf_geo = df_hight_perf_geo.dropna()\n"
   ],
   "metadata": {
    "collapsed": false,
    "ExecuteTime": {
     "end_time": "2024-01-24T14:51:07.777391400Z",
     "start_time": "2024-01-24T14:51:07.642722100Z"
    }
   },
   "id": "6b4e3ba8335d498a",
   "execution_count": 35
  },
  {
   "cell_type": "code",
   "outputs": [],
   "source": [
    "df_daten1 = df_daten[['br', 'inserent_plz','title', 'clicks7d', 'label' ]]\n",
    "\n"
   ],
   "metadata": {
    "collapsed": false
   },
   "id": "caa9d85d4cee2135"
  },
  {
   "cell_type": "markdown",
   "source": [
    "## Low Perforemer Dataframe"
   ],
   "metadata": {
    "collapsed": false
   },
   "id": "2f58b339a1559f5"
  },
  {
   "cell_type": "code",
   "outputs": [
    {
     "data": {
      "text/plain": "            br  inserent_plz  \\\n0     38073246         10318   \n1     39993622         38112   \n2     42568896         80686   \n3     38615244         40789   \n4     38885691         44269   \n...        ...           ...   \n5449  39234159         60327   \n5450  40893270         77866   \n5451  43461193         30625   \n5452  42751497         30625   \n5453  36937339         68161   \n\n                                                  title  clicks7d  label  \\\n0     Technischer Zeichner / Technischer Systemplane...        33      0   \n1                       Head* of Distribution Logistics        35      0   \n2      Kfz-Mechatroniker als Straßenwachtfahrer (m/w/d)        55      0   \n3                    Agile Coach / Scrum Master (m/w/d)        42      0   \n4                Junior Consultant SAP Logistik (w/m/d)        44      0   \n...                                                 ...       ...    ...   \n5449                Servicetechniker:in (m/w/d) Elektro        25      0   \n5450                          Disponent Versand (m/w/d)         9      0   \n5451  SAP Key User:in General Ledger Financial Accou...        15      0   \n5452                  Spezialist:in Financial Reporting        14      0   \n5453                          Senior Controller (m/w/d)        22      0   \n\n            lat        lng  \n0     52.481036  13.518647  \n1     52.307369  10.476249  \n2     48.128863  11.508962  \n3     51.096611   6.897437  \n4     51.491844   7.531976  \n...         ...        ...  \n5449  50.100523   8.654449  \n5450  48.656661   7.942175  \n5451  52.376383   9.802693  \n5452  52.376383   9.802693  \n5453  49.486166   8.470262  \n\n[5398 rows x 7 columns]",
      "text/html": "<div>\n<style scoped>\n    .dataframe tbody tr th:only-of-type {\n        vertical-align: middle;\n    }\n\n    .dataframe tbody tr th {\n        vertical-align: top;\n    }\n\n    .dataframe thead th {\n        text-align: right;\n    }\n</style>\n<table border=\"1\" class=\"dataframe\">\n  <thead>\n    <tr style=\"text-align: right;\">\n      <th></th>\n      <th>br</th>\n      <th>inserent_plz</th>\n      <th>title</th>\n      <th>clicks7d</th>\n      <th>label</th>\n      <th>lat</th>\n      <th>lng</th>\n    </tr>\n  </thead>\n  <tbody>\n    <tr>\n      <th>0</th>\n      <td>38073246</td>\n      <td>10318</td>\n      <td>Technischer Zeichner / Technischer Systemplane...</td>\n      <td>33</td>\n      <td>0</td>\n      <td>52.481036</td>\n      <td>13.518647</td>\n    </tr>\n    <tr>\n      <th>1</th>\n      <td>39993622</td>\n      <td>38112</td>\n      <td>Head* of Distribution Logistics</td>\n      <td>35</td>\n      <td>0</td>\n      <td>52.307369</td>\n      <td>10.476249</td>\n    </tr>\n    <tr>\n      <th>2</th>\n      <td>42568896</td>\n      <td>80686</td>\n      <td>Kfz-Mechatroniker als Straßenwachtfahrer (m/w/d)</td>\n      <td>55</td>\n      <td>0</td>\n      <td>48.128863</td>\n      <td>11.508962</td>\n    </tr>\n    <tr>\n      <th>3</th>\n      <td>38615244</td>\n      <td>40789</td>\n      <td>Agile Coach / Scrum Master (m/w/d)</td>\n      <td>42</td>\n      <td>0</td>\n      <td>51.096611</td>\n      <td>6.897437</td>\n    </tr>\n    <tr>\n      <th>4</th>\n      <td>38885691</td>\n      <td>44269</td>\n      <td>Junior Consultant SAP Logistik (w/m/d)</td>\n      <td>44</td>\n      <td>0</td>\n      <td>51.491844</td>\n      <td>7.531976</td>\n    </tr>\n    <tr>\n      <th>...</th>\n      <td>...</td>\n      <td>...</td>\n      <td>...</td>\n      <td>...</td>\n      <td>...</td>\n      <td>...</td>\n      <td>...</td>\n    </tr>\n    <tr>\n      <th>5449</th>\n      <td>39234159</td>\n      <td>60327</td>\n      <td>Servicetechniker:in (m/w/d) Elektro</td>\n      <td>25</td>\n      <td>0</td>\n      <td>50.100523</td>\n      <td>8.654449</td>\n    </tr>\n    <tr>\n      <th>5450</th>\n      <td>40893270</td>\n      <td>77866</td>\n      <td>Disponent Versand (m/w/d)</td>\n      <td>9</td>\n      <td>0</td>\n      <td>48.656661</td>\n      <td>7.942175</td>\n    </tr>\n    <tr>\n      <th>5451</th>\n      <td>43461193</td>\n      <td>30625</td>\n      <td>SAP Key User:in General Ledger Financial Accou...</td>\n      <td>15</td>\n      <td>0</td>\n      <td>52.376383</td>\n      <td>9.802693</td>\n    </tr>\n    <tr>\n      <th>5452</th>\n      <td>42751497</td>\n      <td>30625</td>\n      <td>Spezialist:in Financial Reporting</td>\n      <td>14</td>\n      <td>0</td>\n      <td>52.376383</td>\n      <td>9.802693</td>\n    </tr>\n    <tr>\n      <th>5453</th>\n      <td>36937339</td>\n      <td>68161</td>\n      <td>Senior Controller (m/w/d)</td>\n      <td>22</td>\n      <td>0</td>\n      <td>49.486166</td>\n      <td>8.470262</td>\n    </tr>\n  </tbody>\n</table>\n<p>5398 rows × 7 columns</p>\n</div>"
     },
     "execution_count": 46,
     "metadata": {},
     "output_type": "execute_result"
    }
   ],
   "source": [
    "\n",
    "df_low_perf = df_daten1[df_daten1['label'] == 0].copy()\n",
    "#df_low_perf.shape\n",
    "\n",
    "\n",
    "df_low_perf['inserent_plz'].dtype\n",
    "\n",
    "\n",
    "#type ändern\n",
    "df_low_perf.dropna()\n",
    "#df_klein_daten.shape\n",
    "\n",
    "#type Object in Type integer umwandeln  \n",
    "df_low_perf['inserent_plz'] = df_low_perf['inserent_plz'].astype(int)\n",
    "\n",
    "# Dataframes zusammenlegen\n",
    "df_low_perf_geo = pd.merge(df_low_perf, plz_geo_df, on='inserent_plz', how='left')\n",
    "\n",
    "# alle \"komische\" Spalten abschalten\n",
    "df_low_perf_geo = df_low_perf_geo.dropna()\n",
    "\n",
    "df_low_perf_geo\n",
    "\n"
   ],
   "metadata": {
    "collapsed": false,
    "ExecuteTime": {
     "end_time": "2024-01-24T15:01:02.443499400Z",
     "start_time": "2024-01-24T15:01:02.410611200Z"
    }
   },
   "id": "ba938e45501b00a2",
   "execution_count": 46
  },
  {
   "cell_type": "markdown",
   "source": [
    "# Karte erstellen"
   ],
   "metadata": {
    "collapsed": false
   },
   "id": "fe24c964970ecd18"
  },
  {
   "cell_type": "code",
   "outputs": [],
   "source": [
    "deutschland_karte = folium.Map(location=[51.1657, 10.4515], zoom_start=6)\n",
    "\n",
    "# Hinzufügen der PLZ-Punkte für hight_perf zur Karte\n",
    "for index, row in df_hight_perf_geo.iterrows():\n",
    "    folium.CircleMarker(\n",
    "        location=[row['lat'], row['lng']],\n",
    "        radius=2, # Radius des Punktes\n",
    "        color='red',\n",
    "        fill=True,\n",
    "        fill_color='red',\n",
    "        fill_opacity=0.2\n",
    "    ).add_to(deutschland_karte)\n",
    "    \n",
    "# Hinzufügen der PLZ-Punkte für hight_perf zur Karte\n",
    "for index, row in df_low_perf_geo.iterrows():\n",
    "    folium.CircleMarker(\n",
    "        location=[row['lat'], row['lng']],\n",
    "        radius=2, # Radius des Punktes\n",
    "        color='blue',\n",
    "        fill=True,\n",
    "        fill_color='blue',\n",
    "        fill_opacity=0.2\n",
    "    ).add_to(deutschland_karte)\n",
    "    \n",
    "\n",
    "deutschland_karte.save('deutschland_karte.html')\n",
    "    "
   ],
   "metadata": {
    "collapsed": false,
    "ExecuteTime": {
     "end_time": "2024-01-24T15:01:46.090909800Z",
     "start_time": "2024-01-24T15:01:43.514461600Z"
    }
   },
   "id": "774c632b0bd5448f",
   "execution_count": 48
  },
  {
   "cell_type": "code",
   "outputs": [],
   "source": [],
   "metadata": {
    "collapsed": false
   },
   "id": "8ba8afce8e8374cb"
  }
 ],
 "metadata": {
  "kernelspec": {
   "display_name": "Python 3",
   "language": "python",
   "name": "python3"
  },
  "language_info": {
   "codemirror_mode": {
    "name": "ipython",
    "version": 2
   },
   "file_extension": ".py",
   "mimetype": "text/x-python",
   "name": "python",
   "nbconvert_exporter": "python",
   "pygments_lexer": "ipython2",
   "version": "2.7.6"
  }
 },
 "nbformat": 4,
 "nbformat_minor": 5
}
